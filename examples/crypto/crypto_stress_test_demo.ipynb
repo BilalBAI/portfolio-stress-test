{
 "cells": [
  {
   "cell_type": "code",
   "execution_count": null,
   "metadata": {},
   "outputs": [],
   "source": [
    "import json\n",
    "import pandas as pd\n",
    "import requests\n",
    "\n",
    "import qrisklab\n",
    "\n",
    "pd.options.display.float_format = '{:,.4f}'.format\n",
    "pd.set_option('display.max_rows', None)  # Set max_rows to None to display all rows\n",
    "pd.set_option('display.max_columns', None)  # Set max_columns to None to display all columns\n"
   ]
  },
  {
   "cell_type": "code",
   "execution_count": null,
   "metadata": {},
   "outputs": [],
   "source": [
    "# Load stress parameters\n",
    "file_path = './parameters/'\n",
    "\n",
    "with open(file_path + 'spot_vol_shocks.json', 'r') as f:\n",
    "    spot_vol_shocks_param = json.load(f)\n",
    "\n",
    "crypto_parameters = qrisklab.core.utils.CryptoParameters(spot_vol_shocks_param)\n",
    "\n",
    "with open(file_path + 'vol_surface_shocks.json', 'r') as f:\n",
    "    vol_surface_shocks_param = json.load(f)\n",
    "\n",
    "vol_surface_shocks_parameters = qrisklab.core.utils.VolSurfaceParameters(vol_surface_shocks_param)\n"
   ]
  },
  {
   "cell_type": "code",
   "execution_count": 12,
   "metadata": {},
   "outputs": [],
   "source": [
    "# Dummy positions\n",
    "df = pd.DataFrame([{'instrument': 'BTC-27DEC24', 'quantity': 100},\n",
    " {'instrument': 'BTC-27DEC24', 'quantity': 100},\n",
    " {'instrument': 'BTC-PERPETUAL', 'quantity': 500},\n",
    " {'instrument': 'BTC-PERPETUAL', 'quantity': 500},\n",
    " {'instrument': 'BTC-25OCT24-44000-P', 'quantity': -100},\n",
    " {'instrument': 'BTC-25OCT24-45000-P', 'quantity': -100},\n",
    " {'instrument': 'BTC-27DEC24-100000-C', 'quantity': -100},\n",
    " {'instrument': 'BTC-27DEC24-105000-C', 'quantity': -100},\n",
    " {'instrument': 'BTC_USDT', 'quantity': 100}])"
   ]
  },
  {
   "cell_type": "code",
   "execution_count": null,
   "metadata": {},
   "outputs": [
    {
     "name": "stdout",
     "output_type": "stream",
     "text": [
      "1580 instruments have been crawled.\n"
     ]
    }
   ],
   "source": [
    "# load position data\n",
    "\n",
    "df = qrisklab.crypto.fetch_market_data(df,'2024-08-13')"
   ]
  },
  {
   "cell_type": "code",
   "execution_count": 14,
   "metadata": {},
   "outputs": [],
   "source": [
    "df=df[['instrument','underlying','expiry','strike','put_call','multiplier',\n",
    "    'quantity','time_to_expiry','rate','cost_of_carry_rate','vol','spot','atm_ivol']]"
   ]
  },
  {
   "cell_type": "markdown",
   "metadata": {},
   "source": [
    "## Spot Vol Shocks"
   ]
  },
  {
   "cell_type": "code",
   "execution_count": 15,
   "metadata": {},
   "outputs": [],
   "source": [
    "spot_vol_shocks = portstress.crypto.CryptoSpotVolShocks(crypto_parameters)"
   ]
  },
  {
   "cell_type": "code",
   "execution_count": 16,
   "metadata": {},
   "outputs": [],
   "source": [
    "post_stress, col = spot_vol_shocks.apply_spot_vol_shocks(df)"
   ]
  },
  {
   "cell_type": "code",
   "execution_count": null,
   "metadata": {},
   "outputs": [
    {
     "data": {
      "text/plain": [
       "np.float64(93.56524889234046)"
      ]
     },
     "execution_count": 17,
     "metadata": {},
     "output_type": "execute_result"
    }
   ],
   "source": [
    "qrisklab.core.black_scholes.bs_pricing(strike=50000, time_to_expiry=0.232877, spot=54681.59, rate=0.03, vol=0.5775, put_call='put')\n",
    "qrisklab.core.black_scholes.calc_vega(strike=50000, time_to_expiry=0.232877, spot=54681.59, rate=0.03, vol=0.5775, put_call='put')\n",
    "\n",
    "# np.float64(3606.873391368419)\n",
    "# np.float64(3700.518323796012)"
   ]
  },
  {
   "cell_type": "code",
   "execution_count": 18,
   "metadata": {},
   "outputs": [
    {
     "name": "stdout",
     "output_type": "stream",
     "text": [
      "Mt. Gox Hack - Feb 2014: -52,165,085\n",
      "DAO Hack - Jun 2016: -30,086,822\n",
      "2017-2018 Bear Market - Jan 2018: -94,299,953\n",
      "COVID-19 Market Crash - Mar 2020: -72,480,840\n",
      "China Crypto Ban - May 2021: -42,732,703\n",
      "Elon Musk Tweets (Tesla U-Turn) - May 2021: -42,663,661\n",
      "2021 Summer Correction - Jun 2021: -57,417,866\n",
      "China Mining Crackdown - Jun 2021: -72,180,757\n",
      "Terra (LUNA) Collapse - May 2022: -57,360,742\n",
      "FTX Bankruptcy - Nov 2022: -36,112,709\n",
      "Fear Avalanche: -36,930,612\n",
      "Fear Avalanche Spot: -35,156,614\n",
      "Bullish Frenzy: 33,400,103\n",
      "Bullish Calm: 13,940,855\n",
      "Bearish Fade: -13,764,925\n",
      "BTC Leads: 13,553,022\n",
      "ETH Leads: 1,194,598\n",
      "BTC Spot 1%: 1,382,212\n",
      "BTC Vol 1%: -27,013\n",
      "spot -16% Vol -25%: -22,033,780\n",
      "spot -16% Vol 0%: -22,348,894\n",
      "spot -16% Vol +50%: -23,260,970\n",
      "spot 16% Vol -25%: 22,394,220\n",
      "spot 16% Vol 0%: 21,954,231\n",
      "spot 16% Vol +50%: 20,690,928\n",
      "spot -66% Vol +50%: -95,775,577\n",
      "spot -33% Vol +50%: -47,326,592\n",
      "spot +50% Vol +50%: 66,157,040\n",
      "spot +100% Vol +50%: 131,727,050\n",
      "spot +200% Vol +50%: 260,564,153\n",
      "spot +300% Vol +50%: 388,067,586\n",
      "spot +400% Vol +50%: 515,065,943\n",
      "spot +500% Vol +50%: 641,858,574\n"
     ]
    }
   ],
   "source": [
    "for k in crypto_parameters.crypto_shocks.keys():\n",
    "    print(f\"{k}: {int(post_stress[k].sum()):,}\")\n"
   ]
  },
  {
   "cell_type": "markdown",
   "metadata": {},
   "source": [
    "## Vol Surface Shocks"
   ]
  },
  {
   "cell_type": "code",
   "execution_count": null,
   "metadata": {},
   "outputs": [],
   "source": [
    "vol_surface_shocks = qrisklab.crypto.CryptoVolSurfaceShocks(vol_surface_shocks_parameters)"
   ]
  },
  {
   "cell_type": "code",
   "execution_count": 20,
   "metadata": {},
   "outputs": [
    {
     "data": {
      "text/html": [
       "<div>\n",
       "<style scoped>\n",
       "    .dataframe tbody tr th:only-of-type {\n",
       "        vertical-align: middle;\n",
       "    }\n",
       "\n",
       "    .dataframe tbody tr th {\n",
       "        vertical-align: top;\n",
       "    }\n",
       "\n",
       "    .dataframe thead th {\n",
       "        text-align: right;\n",
       "    }\n",
       "</style>\n",
       "<table border=\"1\" class=\"dataframe\">\n",
       "  <thead>\n",
       "    <tr style=\"text-align: right;\">\n",
       "      <th></th>\n",
       "      <th>product</th>\n",
       "      <th>measure</th>\n",
       "      <th>value</th>\n",
       "      <th>group</th>\n",
       "      <th>liquidity</th>\n",
       "      <th>type</th>\n",
       "    </tr>\n",
       "  </thead>\n",
       "  <tbody>\n",
       "    <tr>\n",
       "      <th>0</th>\n",
       "      <td>BTC</td>\n",
       "      <td>Parallel</td>\n",
       "      <td>-19,721.6508</td>\n",
       "      <td>None</td>\n",
       "      <td>False</td>\n",
       "      <td>ix</td>\n",
       "    </tr>\n",
       "    <tr>\n",
       "      <th>1</th>\n",
       "      <td>BTC</td>\n",
       "      <td>TermStructure</td>\n",
       "      <td>-126.4170</td>\n",
       "      <td>None</td>\n",
       "      <td>False</td>\n",
       "      <td>ix</td>\n",
       "    </tr>\n",
       "    <tr>\n",
       "      <th>2</th>\n",
       "      <td>BTC</td>\n",
       "      <td>Skew</td>\n",
       "      <td>-3,502.8397</td>\n",
       "      <td>None</td>\n",
       "      <td>False</td>\n",
       "      <td>ix</td>\n",
       "    </tr>\n",
       "    <tr>\n",
       "      <th>3</th>\n",
       "      <td>BTC</td>\n",
       "      <td>BidAsk</td>\n",
       "      <td>-12,960.7810</td>\n",
       "      <td>None</td>\n",
       "      <td>False</td>\n",
       "      <td>ix</td>\n",
       "    </tr>\n",
       "    <tr>\n",
       "      <th>4</th>\n",
       "      <td>BTC</td>\n",
       "      <td>Sum</td>\n",
       "      <td>-36,311.6886</td>\n",
       "      <td>None</td>\n",
       "      <td>False</td>\n",
       "      <td>ix</td>\n",
       "    </tr>\n",
       "    <tr>\n",
       "      <th>5</th>\n",
       "      <td>Sum</td>\n",
       "      <td>Parallel</td>\n",
       "      <td>-19,721.6508</td>\n",
       "      <td>None</td>\n",
       "      <td>False</td>\n",
       "      <td>ix</td>\n",
       "    </tr>\n",
       "    <tr>\n",
       "      <th>6</th>\n",
       "      <td>Sum</td>\n",
       "      <td>TermStructure</td>\n",
       "      <td>-126.4170</td>\n",
       "      <td>None</td>\n",
       "      <td>False</td>\n",
       "      <td>ix</td>\n",
       "    </tr>\n",
       "    <tr>\n",
       "      <th>7</th>\n",
       "      <td>Sum</td>\n",
       "      <td>Skew</td>\n",
       "      <td>-3,502.8397</td>\n",
       "      <td>None</td>\n",
       "      <td>False</td>\n",
       "      <td>ix</td>\n",
       "    </tr>\n",
       "    <tr>\n",
       "      <th>8</th>\n",
       "      <td>Sum</td>\n",
       "      <td>Sum</td>\n",
       "      <td>-23,350.9076</td>\n",
       "      <td>None</td>\n",
       "      <td>False</td>\n",
       "      <td>ix</td>\n",
       "    </tr>\n",
       "  </tbody>\n",
       "</table>\n",
       "</div>"
      ],
      "text/plain": [
       "  product        measure        value group  liquidity type\n",
       "0     BTC       Parallel -19,721.6508  None      False   ix\n",
       "1     BTC  TermStructure    -126.4170  None      False   ix\n",
       "2     BTC           Skew  -3,502.8397  None      False   ix\n",
       "3     BTC         BidAsk -12,960.7810  None      False   ix\n",
       "4     BTC            Sum -36,311.6886  None      False   ix\n",
       "5     Sum       Parallel -19,721.6508  None      False   ix\n",
       "6     Sum  TermStructure    -126.4170  None      False   ix\n",
       "7     Sum           Skew  -3,502.8397  None      False   ix\n",
       "8     Sum            Sum -23,350.9076  None      False   ix"
      ]
     },
     "execution_count": 20,
     "metadata": {},
     "output_type": "execute_result"
    }
   ],
   "source": [
    "import datetime\n",
    "valuation_date = '2024-08-19'\n",
    "\n",
    "df_options = df[df.put_call.isin(['put','call'])].copy()\n",
    "\n",
    "re = vol_surface_shocks.run(\n",
    "    df_options,\n",
    "    valuation_date=datetime.datetime.strptime(valuation_date, '%Y-%m-%d').date())\n",
    "# be careful about valuation date!!! By default it will use today()\n",
    "\n",
    "pd.DataFrame(re)"
   ]
  }
 ],
 "metadata": {
  "kernelspec": {
   "display_name": "portrisk",
   "language": "python",
   "name": "python3"
  },
  "language_info": {
   "codemirror_mode": {
    "name": "ipython",
    "version": 3
   },
   "file_extension": ".py",
   "mimetype": "text/x-python",
   "name": "python",
   "nbconvert_exporter": "python",
   "pygments_lexer": "ipython3",
   "version": "3.12.4"
  }
 },
 "nbformat": 4,
 "nbformat_minor": 2
}
