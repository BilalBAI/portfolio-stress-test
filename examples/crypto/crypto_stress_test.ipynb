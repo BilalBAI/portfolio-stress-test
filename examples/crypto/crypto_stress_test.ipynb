{
 "cells": [
  {
   "cell_type": "code",
   "execution_count": 1,
   "metadata": {},
   "outputs": [],
   "source": [
    "import json\n",
    "import pandas as pd\n",
    "import requests\n",
    "\n",
    "import portstress\n",
    "\n",
    "pd.options.display.float_format = '{:,.2f}'.format\n",
    "pd.set_option('display.max_rows', None)  # Set max_rows to None to display all rows\n",
    "pd.set_option('display.max_columns', None)  # Set max_columns to None to display all columns\n"
   ]
  },
  {
   "cell_type": "code",
   "execution_count": 2,
   "metadata": {},
   "outputs": [],
   "source": [
    "# Load stress parameters\n",
    "file_path = './parameters/'\n",
    "\n",
    "with open(file_path + 'spot_vol_shocks.json', 'r') as f:\n",
    "    spot_vol_shocks_param = json.load(f)\n",
    "\n",
    "crypto_parameters = portstress.core.utils.CryptoParameters(spot_vol_shocks_param)\n",
    "\n",
    "with open(file_path + 'vol_surface_shocks.json', 'r') as f:\n",
    "    vol_surface_shocks_param = json.load(f)\n",
    "\n",
    "vol_surface_shocks_parameters = portstress.core.utils.VolSurfaceParameters(vol_surface_shocks_param)\n"
   ]
  },
  {
   "cell_type": "code",
   "execution_count": 3,
   "metadata": {},
   "outputs": [
    {
     "name": "stdout",
     "output_type": "stream",
     "text": [
      "1828 instruments have been crawled.\n"
     ]
    }
   ],
   "source": [
    "# load position data\n",
    "df = pd.read_excel('positions.xlsx')\n",
    "\n",
    "df = portstress.crypto.fetch_market_data(df,'2024-08-13')"
   ]
  },
  {
   "cell_type": "code",
   "execution_count": 27,
   "metadata": {},
   "outputs": [
    {
     "name": "stdout",
     "output_type": "stream",
     "text": [
      "1822 instruments have been crawled.\n"
     ]
    }
   ],
   "source": [
    "\n",
    "# # Splitting the 'instrument' column by \"-\"\n",
    "# df[['underlying','expiry','strike','put_call']] = df['instrument'].str.split('-', expand=True)\n",
    "# df['strike'] = df['strike'].astype(float)\n",
    "# df['put_call'] = df['put_call'].map({'P':'put','C':'call'})\n",
    "# df['underlying-expiry'] = df['underlying'] + \"-\" + df['expiry']\n",
    "# df['expiry'] = pd.to_datetime(df['expiry'], format='%d%b%y')\n",
    "# # Calculate time to expiry\n",
    "# valuation_day = pd.to_datetime('2024-08-05')\n",
    "# df['time_to_expiry'] = (df['expiry'] - valuation_day).dt.days / 365\n",
    "# # convert expiry to a string\n",
    "# df['expiry'] = df['expiry'].dt.strftime('%Y-%m-%d')\n",
    "\n",
    "\n",
    "# # get market data from deribit\n",
    "# deribit_res = get_order_book(instruments=df['instrument'].to_list())\n",
    "# df = pd.merge(df, deribit_res,how='left',left_on='instrument',right_on='instrument_name')\n",
    "\n",
    "\n",
    "# # calculate input for BSM\t\t\n",
    "# df['cost_of_carry_rate'] = 'default'\n",
    "# df['multiplier'] = 1\n",
    "# df['rate'] = 0.03\n",
    "# df['vol'] = df['mark_iv'] / 100\n",
    "# df['spot'] = df['index_price'].values[0]\n",
    "# # df['position_vega'] = df['vega'] * df['quantity']\n",
    "\n",
    "# # calculate atm_ivol\n",
    "# df_atm = get_atm_ivol()\n",
    "# df = pd.merge(df,df_atm,on='underlying-expiry',how='left')\n"
   ]
  },
  {
   "cell_type": "code",
   "execution_count": 16,
   "metadata": {},
   "outputs": [],
   "source": [
    "# df.to_csv('temp2.csv')\n",
    "# df=pd.read_csv('temp2.csv')"
   ]
  },
  {
   "cell_type": "code",
   "execution_count": 14,
   "metadata": {},
   "outputs": [],
   "source": [
    "df=df[['instrument','underlying','expiry','strike','put_call','multiplier',\n",
    "    'quantity','time_to_expiry','rate','cost_of_carry_rate','vol','spot','atm_ivol']]"
   ]
  },
  {
   "cell_type": "markdown",
   "metadata": {},
   "source": [
    "## Spot Vol Shocks"
   ]
  },
  {
   "cell_type": "code",
   "execution_count": 16,
   "metadata": {},
   "outputs": [],
   "source": [
    "spot_vol_shocks = portstress.crypto.CryptoSpotVolShocks(crypto_parameters)"
   ]
  },
  {
   "cell_type": "code",
   "execution_count": 17,
   "metadata": {},
   "outputs": [],
   "source": [
    "post_stress, col = spot_vol_shocks.apply_spot_vol_shocks(df)"
   ]
  },
  {
   "cell_type": "code",
   "execution_count": 31,
   "metadata": {},
   "outputs": [
    {
     "data": {
      "text/plain": [
       "np.float64(93.56524889234046)"
      ]
     },
     "execution_count": 31,
     "metadata": {},
     "output_type": "execute_result"
    }
   ],
   "source": [
    "portstress.core.black_scholes.bs_pricing(strike=50000, time_to_expiry=0.232877, spot=54681.59, rate=0.03, vol=0.5775, put_call='put')\n",
    "portstress.core.black_scholes.calc_vega(strike=50000, time_to_expiry=0.232877, spot=54681.59, rate=0.03, vol=0.5775, put_call='put')\n",
    "\n",
    "# np.float64(3606.873391368419)\n",
    "# np.float64(3700.518323796012)"
   ]
  },
  {
   "cell_type": "code",
   "execution_count": 26,
   "metadata": {},
   "outputs": [
    {
     "data": {
      "text/html": [
       "<div>\n",
       "<style scoped>\n",
       "    .dataframe tbody tr th:only-of-type {\n",
       "        vertical-align: middle;\n",
       "    }\n",
       "\n",
       "    .dataframe tbody tr th {\n",
       "        vertical-align: top;\n",
       "    }\n",
       "\n",
       "    .dataframe thead th {\n",
       "        text-align: right;\n",
       "    }\n",
       "</style>\n",
       "<table border=\"1\" class=\"dataframe\">\n",
       "  <thead>\n",
       "    <tr style=\"text-align: right;\">\n",
       "      <th></th>\n",
       "      <th>instrument</th>\n",
       "      <th>underlying</th>\n",
       "      <th>expiry</th>\n",
       "      <th>strike</th>\n",
       "      <th>put_call</th>\n",
       "      <th>multiplier</th>\n",
       "      <th>quantity</th>\n",
       "      <th>time_to_expiry</th>\n",
       "      <th>rate</th>\n",
       "      <th>cost_of_carry_rate</th>\n",
       "      <th>vol</th>\n",
       "      <th>spot</th>\n",
       "      <th>atm_ivol</th>\n",
       "      <th>spot_shock</th>\n",
       "      <th>vol_shock</th>\n",
       "      <th>Fear Avalanche</th>\n",
       "      <th>Bullish Frenzy</th>\n",
       "      <th>Bullish Calm</th>\n",
       "      <th>Bearish Fade</th>\n",
       "      <th>BTC Leads</th>\n",
       "      <th>ETH Leads</th>\n",
       "    </tr>\n",
       "  </thead>\n",
       "  <tbody>\n",
       "    <tr>\n",
       "      <th>0</th>\n",
       "      <td>BTC-27DEC24</td>\n",
       "      <td>BTC</td>\n",
       "      <td>2024-12-27</td>\n",
       "      <td>NaN</td>\n",
       "      <td>NaN</td>\n",
       "      <td>1</td>\n",
       "      <td>-10.00</td>\n",
       "      <td>0.37</td>\n",
       "      <td>0.03</td>\n",
       "      <td>default</td>\n",
       "      <td>NaN</td>\n",
       "      <td>61,075.02</td>\n",
       "      <td>62.95</td>\n",
       "      <td>0.01</td>\n",
       "      <td>0.10</td>\n",
       "      <td>152,687.55</td>\n",
       "      <td>-152,687.55</td>\n",
       "      <td>-61,075.02</td>\n",
       "      <td>61,075.02</td>\n",
       "      <td>-61,075.02</td>\n",
       "      <td>-6,107.50</td>\n",
       "    </tr>\n",
       "    <tr>\n",
       "      <th>1</th>\n",
       "      <td>BTC-27DEC24</td>\n",
       "      <td>BTC</td>\n",
       "      <td>2024-12-27</td>\n",
       "      <td>NaN</td>\n",
       "      <td>NaN</td>\n",
       "      <td>1</td>\n",
       "      <td>-10.00</td>\n",
       "      <td>0.37</td>\n",
       "      <td>0.03</td>\n",
       "      <td>default</td>\n",
       "      <td>NaN</td>\n",
       "      <td>61,075.02</td>\n",
       "      <td>62.95</td>\n",
       "      <td>0.01</td>\n",
       "      <td>0.10</td>\n",
       "      <td>152,687.55</td>\n",
       "      <td>-152,687.55</td>\n",
       "      <td>-61,075.02</td>\n",
       "      <td>61,075.02</td>\n",
       "      <td>-61,075.02</td>\n",
       "      <td>-6,107.50</td>\n",
       "    </tr>\n",
       "    <tr>\n",
       "      <th>2</th>\n",
       "      <td>BTC-27DEC24</td>\n",
       "      <td>BTC</td>\n",
       "      <td>2024-12-27</td>\n",
       "      <td>NaN</td>\n",
       "      <td>NaN</td>\n",
       "      <td>1</td>\n",
       "      <td>-10.00</td>\n",
       "      <td>0.37</td>\n",
       "      <td>0.03</td>\n",
       "      <td>default</td>\n",
       "      <td>NaN</td>\n",
       "      <td>61,075.02</td>\n",
       "      <td>62.95</td>\n",
       "      <td>0.01</td>\n",
       "      <td>0.10</td>\n",
       "      <td>152,687.55</td>\n",
       "      <td>-152,687.55</td>\n",
       "      <td>-61,075.02</td>\n",
       "      <td>61,075.02</td>\n",
       "      <td>-61,075.02</td>\n",
       "      <td>-6,107.50</td>\n",
       "    </tr>\n",
       "    <tr>\n",
       "      <th>3</th>\n",
       "      <td>BTC-27DEC24</td>\n",
       "      <td>BTC</td>\n",
       "      <td>2024-12-27</td>\n",
       "      <td>NaN</td>\n",
       "      <td>NaN</td>\n",
       "      <td>1</td>\n",
       "      <td>-10.00</td>\n",
       "      <td>0.37</td>\n",
       "      <td>0.03</td>\n",
       "      <td>default</td>\n",
       "      <td>NaN</td>\n",
       "      <td>61,075.02</td>\n",
       "      <td>62.95</td>\n",
       "      <td>0.01</td>\n",
       "      <td>0.10</td>\n",
       "      <td>152,687.55</td>\n",
       "      <td>-152,687.55</td>\n",
       "      <td>-61,075.02</td>\n",
       "      <td>61,075.02</td>\n",
       "      <td>-61,075.02</td>\n",
       "      <td>-6,107.50</td>\n",
       "    </tr>\n",
       "    <tr>\n",
       "      <th>4</th>\n",
       "      <td>BTC-PERPETUAL</td>\n",
       "      <td>BTC</td>\n",
       "      <td>NaN</td>\n",
       "      <td>NaN</td>\n",
       "      <td>NaN</td>\n",
       "      <td>1</td>\n",
       "      <td>550.00</td>\n",
       "      <td>NaN</td>\n",
       "      <td>0.03</td>\n",
       "      <td>default</td>\n",
       "      <td>NaN</td>\n",
       "      <td>61,075.02</td>\n",
       "      <td>NaN</td>\n",
       "      <td>0.01</td>\n",
       "      <td>0.10</td>\n",
       "      <td>-8,397,815.25</td>\n",
       "      <td>8,397,815.25</td>\n",
       "      <td>3,359,126.10</td>\n",
       "      <td>-3,359,126.10</td>\n",
       "      <td>3,359,126.10</td>\n",
       "      <td>335,912.61</td>\n",
       "    </tr>\n",
       "    <tr>\n",
       "      <th>5</th>\n",
       "      <td>BTC-PERPETUAL</td>\n",
       "      <td>BTC</td>\n",
       "      <td>NaN</td>\n",
       "      <td>NaN</td>\n",
       "      <td>NaN</td>\n",
       "      <td>1</td>\n",
       "      <td>550.00</td>\n",
       "      <td>NaN</td>\n",
       "      <td>0.03</td>\n",
       "      <td>default</td>\n",
       "      <td>NaN</td>\n",
       "      <td>61,075.02</td>\n",
       "      <td>NaN</td>\n",
       "      <td>0.01</td>\n",
       "      <td>0.10</td>\n",
       "      <td>-8,397,815.25</td>\n",
       "      <td>8,397,815.25</td>\n",
       "      <td>3,359,126.10</td>\n",
       "      <td>-3,359,126.10</td>\n",
       "      <td>3,359,126.10</td>\n",
       "      <td>335,912.61</td>\n",
       "    </tr>\n",
       "    <tr>\n",
       "      <th>6</th>\n",
       "      <td>BTC-PERPETUAL</td>\n",
       "      <td>BTC</td>\n",
       "      <td>NaN</td>\n",
       "      <td>NaN</td>\n",
       "      <td>NaN</td>\n",
       "      <td>1</td>\n",
       "      <td>550.00</td>\n",
       "      <td>NaN</td>\n",
       "      <td>0.03</td>\n",
       "      <td>default</td>\n",
       "      <td>NaN</td>\n",
       "      <td>61,075.02</td>\n",
       "      <td>NaN</td>\n",
       "      <td>0.01</td>\n",
       "      <td>0.10</td>\n",
       "      <td>-8,397,815.25</td>\n",
       "      <td>8,397,815.25</td>\n",
       "      <td>3,359,126.10</td>\n",
       "      <td>-3,359,126.10</td>\n",
       "      <td>3,359,126.10</td>\n",
       "      <td>335,912.61</td>\n",
       "    </tr>\n",
       "    <tr>\n",
       "      <th>7</th>\n",
       "      <td>BTC-PERPETUAL</td>\n",
       "      <td>BTC</td>\n",
       "      <td>NaN</td>\n",
       "      <td>NaN</td>\n",
       "      <td>NaN</td>\n",
       "      <td>1</td>\n",
       "      <td>550.00</td>\n",
       "      <td>NaN</td>\n",
       "      <td>0.03</td>\n",
       "      <td>default</td>\n",
       "      <td>NaN</td>\n",
       "      <td>61,075.02</td>\n",
       "      <td>NaN</td>\n",
       "      <td>0.01</td>\n",
       "      <td>0.10</td>\n",
       "      <td>-8,397,815.25</td>\n",
       "      <td>8,397,815.25</td>\n",
       "      <td>3,359,126.10</td>\n",
       "      <td>-3,359,126.10</td>\n",
       "      <td>3,359,126.10</td>\n",
       "      <td>335,912.61</td>\n",
       "    </tr>\n",
       "    <tr>\n",
       "      <th>8</th>\n",
       "      <td>BTC-25OCT24-44000-P</td>\n",
       "      <td>BTC</td>\n",
       "      <td>2024-10-25</td>\n",
       "      <td>44,000.00</td>\n",
       "      <td>put</td>\n",
       "      <td>1</td>\n",
       "      <td>-50.00</td>\n",
       "      <td>0.20</td>\n",
       "      <td>0.03</td>\n",
       "      <td>default</td>\n",
       "      <td>0.63</td>\n",
       "      <td>61,075.02</td>\n",
       "      <td>57.51</td>\n",
       "      <td>0.01</td>\n",
       "      <td>0.10</td>\n",
       "      <td>-402,284.74</td>\n",
       "      <td>12,531.45</td>\n",
       "      <td>28,556.61</td>\n",
       "      <td>-19,992.33</td>\n",
       "      <td>10,146.96</td>\n",
       "      <td>-11,739.79</td>\n",
       "    </tr>\n",
       "    <tr>\n",
       "      <th>9</th>\n",
       "      <td>BTC-25OCT24-45000-P</td>\n",
       "      <td>BTC</td>\n",
       "      <td>2024-10-25</td>\n",
       "      <td>45,000.00</td>\n",
       "      <td>put</td>\n",
       "      <td>1</td>\n",
       "      <td>-150.00</td>\n",
       "      <td>0.20</td>\n",
       "      <td>0.03</td>\n",
       "      <td>default</td>\n",
       "      <td>0.62</td>\n",
       "      <td>61,075.02</td>\n",
       "      <td>57.51</td>\n",
       "      <td>0.01</td>\n",
       "      <td>0.10</td>\n",
       "      <td>-1,257,531.67</td>\n",
       "      <td>46,220.52</td>\n",
       "      <td>96,208.53</td>\n",
       "      <td>-70,287.28</td>\n",
       "      <td>35,894.42</td>\n",
       "      <td>-37,240.32</td>\n",
       "    </tr>\n",
       "    <tr>\n",
       "      <th>10</th>\n",
       "      <td>BTC-27DEC24-100000-C</td>\n",
       "      <td>BTC</td>\n",
       "      <td>2024-12-27</td>\n",
       "      <td>100,000.00</td>\n",
       "      <td>call</td>\n",
       "      <td>1</td>\n",
       "      <td>-230.00</td>\n",
       "      <td>0.37</td>\n",
       "      <td>0.03</td>\n",
       "      <td>default</td>\n",
       "      <td>0.68</td>\n",
       "      <td>61,075.02</td>\n",
       "      <td>62.95</td>\n",
       "      <td>0.01</td>\n",
       "      <td>0.10</td>\n",
       "      <td>-718,028.56</td>\n",
       "      <td>-1,714,799.41</td>\n",
       "      <td>-95,292.15</td>\n",
       "      <td>288,036.51</td>\n",
       "      <td>-486,869.24</td>\n",
       "      <td>-185,303.06</td>\n",
       "    </tr>\n",
       "    <tr>\n",
       "      <th>11</th>\n",
       "      <td>BTC-27DEC24-105000-C</td>\n",
       "      <td>BTC</td>\n",
       "      <td>2024-12-27</td>\n",
       "      <td>105,000.00</td>\n",
       "      <td>call</td>\n",
       "      <td>1</td>\n",
       "      <td>-135.00</td>\n",
       "      <td>0.37</td>\n",
       "      <td>0.03</td>\n",
       "      <td>default</td>\n",
       "      <td>0.69</td>\n",
       "      <td>61,075.02</td>\n",
       "      <td>62.95</td>\n",
       "      <td>0.01</td>\n",
       "      <td>0.10</td>\n",
       "      <td>-425,424.44</td>\n",
       "      <td>-928,550.15</td>\n",
       "      <td>-41,704.19</td>\n",
       "      <td>144,747.75</td>\n",
       "      <td>-255,452.49</td>\n",
       "      <td>-99,408.65</td>\n",
       "    </tr>\n",
       "    <tr>\n",
       "      <th>12</th>\n",
       "      <td>BTC</td>\n",
       "      <td>BTC</td>\n",
       "      <td>NaN</td>\n",
       "      <td>NaN</td>\n",
       "      <td>NaN</td>\n",
       "      <td>1</td>\n",
       "      <td>100.00</td>\n",
       "      <td>NaN</td>\n",
       "      <td>0.03</td>\n",
       "      <td>default</td>\n",
       "      <td>NaN</td>\n",
       "      <td>61,075.02</td>\n",
       "      <td>NaN</td>\n",
       "      <td>0.01</td>\n",
       "      <td>0.10</td>\n",
       "      <td>-1,526,875.50</td>\n",
       "      <td>1,526,875.50</td>\n",
       "      <td>610,750.20</td>\n",
       "      <td>-610,750.20</td>\n",
       "      <td>610,750.20</td>\n",
       "      <td>61,075.02</td>\n",
       "    </tr>\n",
       "  </tbody>\n",
       "</table>\n",
       "</div>"
      ],
      "text/plain": [
       "              instrument underlying      expiry     strike put_call  \\\n",
       "0            BTC-27DEC24        BTC  2024-12-27        NaN      NaN   \n",
       "1            BTC-27DEC24        BTC  2024-12-27        NaN      NaN   \n",
       "2            BTC-27DEC24        BTC  2024-12-27        NaN      NaN   \n",
       "3            BTC-27DEC24        BTC  2024-12-27        NaN      NaN   \n",
       "4          BTC-PERPETUAL        BTC         NaN        NaN      NaN   \n",
       "5          BTC-PERPETUAL        BTC         NaN        NaN      NaN   \n",
       "6          BTC-PERPETUAL        BTC         NaN        NaN      NaN   \n",
       "7          BTC-PERPETUAL        BTC         NaN        NaN      NaN   \n",
       "8    BTC-25OCT24-44000-P        BTC  2024-10-25  44,000.00      put   \n",
       "9    BTC-25OCT24-45000-P        BTC  2024-10-25  45,000.00      put   \n",
       "10  BTC-27DEC24-100000-C        BTC  2024-12-27 100,000.00     call   \n",
       "11  BTC-27DEC24-105000-C        BTC  2024-12-27 105,000.00     call   \n",
       "12                   BTC        BTC         NaN        NaN      NaN   \n",
       "\n",
       "    multiplier  quantity  time_to_expiry  rate cost_of_carry_rate  vol  \\\n",
       "0            1    -10.00            0.37  0.03            default  NaN   \n",
       "1            1    -10.00            0.37  0.03            default  NaN   \n",
       "2            1    -10.00            0.37  0.03            default  NaN   \n",
       "3            1    -10.00            0.37  0.03            default  NaN   \n",
       "4            1    550.00             NaN  0.03            default  NaN   \n",
       "5            1    550.00             NaN  0.03            default  NaN   \n",
       "6            1    550.00             NaN  0.03            default  NaN   \n",
       "7            1    550.00             NaN  0.03            default  NaN   \n",
       "8            1    -50.00            0.20  0.03            default 0.63   \n",
       "9            1   -150.00            0.20  0.03            default 0.62   \n",
       "10           1   -230.00            0.37  0.03            default 0.68   \n",
       "11           1   -135.00            0.37  0.03            default 0.69   \n",
       "12           1    100.00             NaN  0.03            default  NaN   \n",
       "\n",
       "        spot  atm_ivol  spot_shock  vol_shock  Fear Avalanche  Bullish Frenzy  \\\n",
       "0  61,075.02     62.95        0.01       0.10      152,687.55     -152,687.55   \n",
       "1  61,075.02     62.95        0.01       0.10      152,687.55     -152,687.55   \n",
       "2  61,075.02     62.95        0.01       0.10      152,687.55     -152,687.55   \n",
       "3  61,075.02     62.95        0.01       0.10      152,687.55     -152,687.55   \n",
       "4  61,075.02       NaN        0.01       0.10   -8,397,815.25    8,397,815.25   \n",
       "5  61,075.02       NaN        0.01       0.10   -8,397,815.25    8,397,815.25   \n",
       "6  61,075.02       NaN        0.01       0.10   -8,397,815.25    8,397,815.25   \n",
       "7  61,075.02       NaN        0.01       0.10   -8,397,815.25    8,397,815.25   \n",
       "8  61,075.02     57.51        0.01       0.10     -402,284.74       12,531.45   \n",
       "9  61,075.02     57.51        0.01       0.10   -1,257,531.67       46,220.52   \n",
       "10 61,075.02     62.95        0.01       0.10     -718,028.56   -1,714,799.41   \n",
       "11 61,075.02     62.95        0.01       0.10     -425,424.44     -928,550.15   \n",
       "12 61,075.02       NaN        0.01       0.10   -1,526,875.50    1,526,875.50   \n",
       "\n",
       "    Bullish Calm  Bearish Fade    BTC Leads   ETH Leads  \n",
       "0     -61,075.02     61,075.02   -61,075.02   -6,107.50  \n",
       "1     -61,075.02     61,075.02   -61,075.02   -6,107.50  \n",
       "2     -61,075.02     61,075.02   -61,075.02   -6,107.50  \n",
       "3     -61,075.02     61,075.02   -61,075.02   -6,107.50  \n",
       "4   3,359,126.10 -3,359,126.10 3,359,126.10  335,912.61  \n",
       "5   3,359,126.10 -3,359,126.10 3,359,126.10  335,912.61  \n",
       "6   3,359,126.10 -3,359,126.10 3,359,126.10  335,912.61  \n",
       "7   3,359,126.10 -3,359,126.10 3,359,126.10  335,912.61  \n",
       "8      28,556.61    -19,992.33    10,146.96  -11,739.79  \n",
       "9      96,208.53    -70,287.28    35,894.42  -37,240.32  \n",
       "10    -95,292.15    288,036.51  -486,869.24 -185,303.06  \n",
       "11    -41,704.19    144,747.75  -255,452.49  -99,408.65  \n",
       "12    610,750.20   -610,750.20   610,750.20   61,075.02  "
      ]
     },
     "execution_count": 26,
     "metadata": {},
     "output_type": "execute_result"
    }
   ],
   "source": [
    "post_stress"
   ]
  },
  {
   "cell_type": "code",
   "execution_count": 18,
   "metadata": {},
   "outputs": [
    {
     "name": "stdout",
     "output_type": "stream",
     "text": [
      "Fear Avalanche: -37,310,655\n",
      "Bullish Frenzy: 31,922,788\n",
      "Bullish Calm: 13,790,723\n",
      "Bearish Fade: -13,460,449\n",
      "BTC Leads: 13,106,674\n",
      "ETH Leads: 1,046,603\n"
     ]
    }
   ],
   "source": [
    "for k in crypto_parameters.crypto_shocks.keys():\n",
    "    print(f\"{k}: {int(post_stress[k].sum()):,}\")\n"
   ]
  },
  {
   "cell_type": "markdown",
   "metadata": {},
   "source": [
    "## Vol Surface Shocks"
   ]
  },
  {
   "cell_type": "code",
   "execution_count": 19,
   "metadata": {},
   "outputs": [],
   "source": [
    "vol_surface_shocks = portstress.crypto.CryptoVolSurfaceShocks(vol_surface_shocks_parameters)"
   ]
  },
  {
   "cell_type": "code",
   "execution_count": 23,
   "metadata": {},
   "outputs": [
    {
     "data": {
      "text/html": [
       "<div>\n",
       "<style scoped>\n",
       "    .dataframe tbody tr th:only-of-type {\n",
       "        vertical-align: middle;\n",
       "    }\n",
       "\n",
       "    .dataframe tbody tr th {\n",
       "        vertical-align: top;\n",
       "    }\n",
       "\n",
       "    .dataframe thead th {\n",
       "        text-align: right;\n",
       "    }\n",
       "</style>\n",
       "<table border=\"1\" class=\"dataframe\">\n",
       "  <thead>\n",
       "    <tr style=\"text-align: right;\">\n",
       "      <th></th>\n",
       "      <th>product</th>\n",
       "      <th>measure</th>\n",
       "      <th>value</th>\n",
       "      <th>group</th>\n",
       "      <th>liquidity</th>\n",
       "      <th>type</th>\n",
       "    </tr>\n",
       "  </thead>\n",
       "  <tbody>\n",
       "    <tr>\n",
       "      <th>0</th>\n",
       "      <td>BTC</td>\n",
       "      <td>Parallel</td>\n",
       "      <td>-46,320.65</td>\n",
       "      <td>None</td>\n",
       "      <td>False</td>\n",
       "      <td>ix</td>\n",
       "    </tr>\n",
       "    <tr>\n",
       "      <th>1</th>\n",
       "      <td>BTC</td>\n",
       "      <td>TermStructure</td>\n",
       "      <td>-11,509.96</td>\n",
       "      <td>None</td>\n",
       "      <td>False</td>\n",
       "      <td>ix</td>\n",
       "    </tr>\n",
       "    <tr>\n",
       "      <th>2</th>\n",
       "      <td>BTC</td>\n",
       "      <td>Skew</td>\n",
       "      <td>-10,309.38</td>\n",
       "      <td>None</td>\n",
       "      <td>False</td>\n",
       "      <td>ix</td>\n",
       "    </tr>\n",
       "    <tr>\n",
       "      <th>3</th>\n",
       "      <td>BTC</td>\n",
       "      <td>BidAsk</td>\n",
       "      <td>-19,250.96</td>\n",
       "      <td>None</td>\n",
       "      <td>False</td>\n",
       "      <td>ix</td>\n",
       "    </tr>\n",
       "    <tr>\n",
       "      <th>4</th>\n",
       "      <td>BTC</td>\n",
       "      <td>Sum</td>\n",
       "      <td>-87,390.95</td>\n",
       "      <td>None</td>\n",
       "      <td>False</td>\n",
       "      <td>ix</td>\n",
       "    </tr>\n",
       "    <tr>\n",
       "      <th>5</th>\n",
       "      <td>Sum</td>\n",
       "      <td>Parallel</td>\n",
       "      <td>-46,320.65</td>\n",
       "      <td>None</td>\n",
       "      <td>False</td>\n",
       "      <td>ix</td>\n",
       "    </tr>\n",
       "    <tr>\n",
       "      <th>6</th>\n",
       "      <td>Sum</td>\n",
       "      <td>TermStructure</td>\n",
       "      <td>-11,509.96</td>\n",
       "      <td>None</td>\n",
       "      <td>False</td>\n",
       "      <td>ix</td>\n",
       "    </tr>\n",
       "    <tr>\n",
       "      <th>7</th>\n",
       "      <td>Sum</td>\n",
       "      <td>Skew</td>\n",
       "      <td>-10,309.38</td>\n",
       "      <td>None</td>\n",
       "      <td>False</td>\n",
       "      <td>ix</td>\n",
       "    </tr>\n",
       "    <tr>\n",
       "      <th>8</th>\n",
       "      <td>Sum</td>\n",
       "      <td>Sum</td>\n",
       "      <td>-68,139.99</td>\n",
       "      <td>None</td>\n",
       "      <td>False</td>\n",
       "      <td>ix</td>\n",
       "    </tr>\n",
       "  </tbody>\n",
       "</table>\n",
       "</div>"
      ],
      "text/plain": [
       "  product        measure      value group  liquidity type\n",
       "0     BTC       Parallel -46,320.65  None      False   ix\n",
       "1     BTC  TermStructure -11,509.96  None      False   ix\n",
       "2     BTC           Skew -10,309.38  None      False   ix\n",
       "3     BTC         BidAsk -19,250.96  None      False   ix\n",
       "4     BTC            Sum -87,390.95  None      False   ix\n",
       "5     Sum       Parallel -46,320.65  None      False   ix\n",
       "6     Sum  TermStructure -11,509.96  None      False   ix\n",
       "7     Sum           Skew -10,309.38  None      False   ix\n",
       "8     Sum            Sum -68,139.99  None      False   ix"
      ]
     },
     "execution_count": 23,
     "metadata": {},
     "output_type": "execute_result"
    }
   ],
   "source": [
    "df_options = df[df.put_call.isin(['put','call'])].copy()\n",
    "re = vol_surface_shocks.run(df_options)\n",
    "pd.DataFrame(re)"
   ]
  },
  {
   "cell_type": "markdown",
   "metadata": {},
   "source": [
    "## Ivol Timing"
   ]
  },
  {
   "cell_type": "code",
   "execution_count": 2,
   "metadata": {},
   "outputs": [],
   "source": [
    "df = pd.read_excel('ivol_timing.xlsx')\n",
    "df['time'] = pd.to_datetime(df['timestamp'], unit='ms')"
   ]
  },
  {
   "cell_type": "code",
   "execution_count": 28,
   "metadata": {},
   "outputs": [],
   "source": [
    "# Volatility Index\n",
    "\n",
    "from datetime import datetime, timedelta\n",
    "import requests\n",
    "\n",
    "ccy='BTC'\n",
    "end_timestamp = int(datetime.now().timestamp() * 1000)\n",
    "time_24_hours_ago = datetime.now() - timedelta(hours=24)\n",
    "start_timestamp = int(time_24_hours_ago.timestamp() * 1000)\n",
    "url = f\"https://test.deribit.com/api/v2/public/get_volatility_index_data\"\n",
    "\n",
    "r = requests.get(url, params = {'currency': ccy,\n",
    "                                'end_timestamp': end_timestamp,\n",
    "                                'start_timestamp': start_timestamp,\n",
    "                                'resolution':3600})\n",
    "\n",
    "df_ivol_index = pd.DataFrame(r.json()['result']['data']).rename(columns={0:'timestamp',1:'open',2:'high',3:'low',4:'close'})\n",
    "df_ivol_index['time'] = pd.to_datetime(df_ivol_index['timestamp'], unit='ms')\n",
    "df_ivol_index['ivol_index'] = df_ivol_index['close']\n"
   ]
  },
  {
   "cell_type": "code",
   "execution_count": 29,
   "metadata": {},
   "outputs": [
    {
     "data": {
      "application/vnd.plotly.v1+json": {
       "config": {
        "plotlyServerURL": "https://plot.ly"
       },
       "data": [
        {
         "marker": {
          "color": "blue",
          "size": 5
         },
         "mode": "markers",
         "name": "Buy",
         "type": "scatter",
         "x": [
          "2024-07-29T05:17:13.069000",
          "2024-07-29T05:37:05.187000",
          "2024-07-29T05:37:05.187000",
          "2024-07-29T05:37:05.187000",
          "2024-07-29T05:37:05.187000",
          "2024-07-29T05:37:26.152000",
          "2024-07-29T05:37:26.152000",
          "2024-07-29T05:37:26.152000",
          "2024-07-30T02:40:43.875000",
          "2024-07-30T02:41:16.043000",
          "2024-07-30T02:41:16.043000",
          "2024-07-30T02:41:16.043000",
          "2024-07-30T02:41:16.043000",
          "2024-07-30T02:41:16.043000",
          "2024-07-30T02:41:28.644000",
          "2024-07-30T02:41:28.644000",
          "2024-07-30T02:41:28.644000",
          "2024-07-30T02:42:18.571000",
          "2024-07-30T08:52:02.574000",
          "2024-07-30T08:54:55.272000",
          "2024-07-30T08:55:09.844000",
          "2024-07-30T08:55:54.239000",
          "2024-07-30T08:58:44.074000",
          "2024-07-30T09:15:57.394000",
          "2024-07-30T09:15:57.394000",
          "2024-07-31T02:38:35.599000",
          "2024-07-31T02:38:35.599000",
          "2024-07-31T02:38:35.599000",
          "2024-07-31T02:38:35.599000",
          "2024-07-31T02:51:58.890000",
          "2024-07-31T02:59:26.810000",
          "2024-07-31T02:59:26.810000",
          "2024-07-31T02:59:26.810000",
          "2024-07-31T02:59:26.810000",
          "2024-07-31T02:59:26.810000",
          "2024-08-01T06:22:42.921000",
          "2024-08-01T06:22:42.921000",
          "2024-08-01T06:22:42.921000",
          "2024-08-01T06:22:59.124000",
          "2024-08-01T06:24:39.837000",
          "2024-08-01T06:25:08.047000",
          "2024-08-01T06:26:14.095000",
          "2024-08-01T06:26:14.095000",
          "2024-08-01T06:26:14.095000",
          "2024-08-01T06:28:06.707000",
          "2024-08-01T06:28:06.707000",
          "2024-08-01T06:29:28.401000",
          "2024-08-01T06:29:44.580000",
          "2024-08-01T08:19:09.983000",
          "2024-08-01T08:19:09.983000",
          "2024-08-01T08:19:09.983000",
          "2024-08-01T08:19:09.983000",
          "2024-08-01T08:19:09.983000",
          "2024-08-01T08:19:09.983000",
          "2024-08-01T08:19:09.983000",
          "2024-08-01T08:19:09.983000",
          "2024-08-01T08:19:09.983000",
          "2024-08-01T08:19:22.468000",
          "2024-08-01T08:19:22.468000",
          "2024-08-01T08:19:22.468000",
          "2024-08-01T08:24:28.554000",
          "2024-08-01T08:24:28.554000",
          "2024-08-01T08:24:28.554000",
          "2024-08-01T08:24:28.554000",
          "2024-08-01T08:24:28.554000",
          "2024-08-01T08:24:28.554000",
          "2024-08-01T08:24:28.554000",
          "2024-08-01T08:24:28.554000",
          "2024-08-01T08:24:28.554000",
          "2024-08-01T08:24:28.554000",
          "2024-08-01T08:24:28.554000",
          "2024-08-01T08:25:10.907000",
          "2024-08-01T08:51:06.245000",
          "2024-08-01T08:51:06.245000",
          "2024-08-01T08:51:06.245000"
         ],
         "y": [
          62.1,
          62.7,
          62.7,
          62.7,
          62.7,
          61.19,
          61.19,
          61.19,
          56.2,
          57.27,
          57.27,
          57.27,
          57.27,
          57.27,
          57.21,
          57.21,
          57.21,
          55.97,
          59.77,
          59.59,
          59.33,
          60.24,
          60.07,
          63.02,
          63.02,
          56.1,
          56.1,
          56.1,
          56.1,
          57.1,
          51.38,
          51.38,
          51.38,
          51.38,
          51.38,
          54.72,
          54.72,
          54.72,
          54.69,
          53.05,
          55.36,
          53.43,
          53.43,
          53.43,
          55.97,
          55.97,
          55.94,
          55.94,
          53.47,
          53.47,
          53.47,
          53.47,
          53.47,
          53.47,
          53.47,
          53.47,
          53.47,
          53.48,
          53.48,
          53.48,
          53.84,
          53.84,
          53.84,
          53.84,
          53.84,
          53.84,
          53.84,
          53.84,
          53.84,
          53.84,
          53.84,
          53.67,
          54.88,
          54.88,
          54.88
         ]
        },
        {
         "marker": {
          "color": "red",
          "size": 5
         },
         "mode": "markers",
         "name": "Sell",
         "type": "scatter",
         "x": [
          "2024-07-29T03:48:25.022000",
          "2024-07-29T03:50:34.293000",
          "2024-07-29T03:50:41.651000",
          "2024-07-29T03:51:55.277000",
          "2024-07-29T03:52:44.457000",
          "2024-07-29T07:59:32.914000",
          "2024-07-29T08:03:31.535000",
          "2024-07-29T08:12:40.051000",
          "2024-07-29T08:17:26.800000",
          "2024-07-29T08:17:52.172000",
          "2024-07-29T09:47:25.341000",
          "2024-07-29T10:22:49.649000",
          "2024-07-29T15:27:07.478000",
          "2024-07-29T15:27:07.478000",
          "2024-07-30T04:47:24.461000",
          "2024-07-30T06:39:46.684000",
          "2024-07-30T06:52:52.348000",
          "2024-07-30T06:53:16.055000",
          "2024-07-30T06:53:25.684000",
          "2024-07-30T07:19:17.296000",
          "2024-07-30T07:36:47.463000",
          "2024-07-30T09:15:57.394000",
          "2024-07-30T09:15:57.394000",
          "2024-07-31T02:43:21.169000",
          "2024-07-31T02:51:58.890000",
          "2024-07-31T02:58:10.298000",
          "2024-07-31T03:07:27.898000",
          "2024-08-01T02:03:20.638000",
          "2024-08-01T02:03:20.638000",
          "2024-08-01T02:29:24.636000",
          "2024-08-01T03:25:20.761000",
          "2024-08-01T03:25:20.761000",
          "2024-08-01T06:14:56.766000",
          "2024-08-01T06:15:13.008000",
          "2024-08-01T06:32:25.463000",
          "2024-08-01T06:32:36.085000",
          "2024-08-01T06:35:14.375000",
          "2024-08-01T06:38:22.034000",
          "2024-08-01T06:39:19.261000",
          "2024-08-01T06:39:27.439000",
          "2024-08-01T06:39:40.465000",
          "2024-08-01T06:39:55.862000",
          "2024-08-01T07:00:29.505000",
          "2024-08-01T07:00:29.505000",
          "2024-08-01T07:00:29.505000",
          "2024-08-01T07:01:31.828000",
          "2024-08-01T09:00:31.910000",
          "2024-08-01T09:00:31.910000",
          "2024-08-01T09:00:31.910000",
          "2024-08-01T09:00:31.910000",
          "2024-08-01T09:00:31.910000",
          "2024-08-01T09:07:37.687000",
          "2024-08-01T09:09:03.855000",
          "2024-08-01T09:09:58.194000",
          "2024-08-01T09:14:50.266000",
          "2024-08-01T09:21:09.843000",
          "2024-08-01T09:40:10.525000",
          "2024-08-01T09:40:52.726000",
          "2024-08-01T09:48:38.999000",
          "2024-08-01T09:56:56.704000",
          "2024-08-01T09:56:56.704000"
         ],
         "y": [
          62.62,
          62.94,
          62.6,
          62.57,
          62.33,
          65.06,
          65.58,
          64.46,
          65.7,
          65.22,
          65.1,
          66.44,
          66.57,
          66.57,
          63.48,
          63.24,
          63.58,
          63.31,
          63.32,
          62.15,
          62.96,
          62.08,
          62.08,
          54.38,
          58.97,
          62.92,
          63.52,
          63.11,
          63.11,
          62.74,
          62.25,
          62.25,
          63.79,
          63.01,
          64.73,
          64.72,
          61.83,
          63.45,
          62.19,
          63.69,
          61.33,
          61.21,
          54.27,
          54.27,
          54.27,
          54.07,
          51.15,
          51.15,
          51.15,
          51.15,
          51.15,
          54.93,
          54.53,
          54.7,
          61.74,
          62.29,
          61.38,
          63.69,
          62.13,
          62.28,
          62.28
         ]
        },
        {
         "line": {
          "color": "green"
         },
         "mode": "lines",
         "name": "Ivol Index",
         "type": "scatter",
         "x": [
          "2024-07-24T15:00:00",
          "2024-07-24T16:00:00",
          "2024-07-24T17:00:00",
          "2024-07-24T18:00:00",
          "2024-07-24T19:00:00",
          "2024-07-24T20:00:00",
          "2024-07-24T21:00:00",
          "2024-07-24T22:00:00",
          "2024-07-24T23:00:00",
          "2024-07-25T00:00:00",
          "2024-07-25T01:00:00",
          "2024-07-25T02:00:00",
          "2024-07-25T03:00:00",
          "2024-07-25T04:00:00",
          "2024-07-25T05:00:00",
          "2024-07-25T06:00:00",
          "2024-07-25T07:00:00",
          "2024-07-25T08:00:00",
          "2024-07-25T09:00:00",
          "2024-07-25T10:00:00",
          "2024-07-25T11:00:00",
          "2024-07-25T12:00:00",
          "2024-07-25T13:00:00",
          "2024-07-25T14:00:00",
          "2024-07-25T15:00:00",
          "2024-07-25T16:00:00",
          "2024-07-25T17:00:00",
          "2024-07-25T18:00:00",
          "2024-07-25T19:00:00",
          "2024-07-25T20:00:00",
          "2024-07-25T21:00:00",
          "2024-07-25T22:00:00",
          "2024-07-25T23:00:00",
          "2024-07-26T00:00:00",
          "2024-07-26T01:00:00",
          "2024-07-26T02:00:00",
          "2024-07-26T03:00:00",
          "2024-07-26T04:00:00",
          "2024-07-26T05:00:00",
          "2024-07-26T06:00:00",
          "2024-07-26T07:00:00",
          "2024-07-26T08:00:00",
          "2024-07-26T09:00:00",
          "2024-07-26T10:00:00",
          "2024-07-26T11:00:00",
          "2024-07-26T12:00:00",
          "2024-07-26T13:00:00",
          "2024-07-26T14:00:00",
          "2024-07-26T15:00:00",
          "2024-07-26T16:00:00",
          "2024-07-26T17:00:00",
          "2024-07-26T18:00:00",
          "2024-07-26T19:00:00",
          "2024-07-26T20:00:00",
          "2024-07-26T21:00:00",
          "2024-07-26T22:00:00",
          "2024-07-26T23:00:00",
          "2024-07-27T00:00:00",
          "2024-07-27T01:00:00",
          "2024-07-27T02:00:00",
          "2024-07-27T03:00:00",
          "2024-07-27T04:00:00",
          "2024-07-27T05:00:00",
          "2024-07-27T06:00:00",
          "2024-07-27T07:00:00",
          "2024-07-27T08:00:00",
          "2024-07-27T09:00:00",
          "2024-07-27T10:00:00",
          "2024-07-27T11:00:00",
          "2024-07-27T12:00:00",
          "2024-07-27T13:00:00",
          "2024-07-27T14:00:00",
          "2024-07-27T15:00:00",
          "2024-07-27T16:00:00",
          "2024-07-27T17:00:00",
          "2024-07-27T18:00:00",
          "2024-07-27T19:00:00",
          "2024-07-27T20:00:00",
          "2024-07-27T21:00:00",
          "2024-07-27T22:00:00",
          "2024-07-27T23:00:00",
          "2024-07-28T00:00:00",
          "2024-07-28T01:00:00",
          "2024-07-28T02:00:00",
          "2024-07-28T03:00:00",
          "2024-07-28T04:00:00",
          "2024-07-28T05:00:00",
          "2024-07-28T06:00:00",
          "2024-07-28T07:00:00",
          "2024-07-28T08:00:00",
          "2024-07-28T09:00:00",
          "2024-07-28T10:00:00",
          "2024-07-28T11:00:00",
          "2024-07-28T12:00:00",
          "2024-07-28T13:00:00",
          "2024-07-28T14:00:00",
          "2024-07-28T15:00:00",
          "2024-07-28T16:00:00",
          "2024-07-28T17:00:00",
          "2024-07-28T18:00:00",
          "2024-07-28T19:00:00",
          "2024-07-28T20:00:00",
          "2024-07-28T21:00:00",
          "2024-07-28T22:00:00",
          "2024-07-28T23:00:00",
          "2024-07-29T00:00:00",
          "2024-07-29T01:00:00",
          "2024-07-29T02:00:00",
          "2024-07-29T03:00:00",
          "2024-07-29T04:00:00",
          "2024-07-29T05:00:00",
          "2024-07-29T06:00:00",
          "2024-07-29T07:00:00",
          "2024-07-29T08:00:00",
          "2024-07-29T09:00:00",
          "2024-07-29T10:00:00",
          "2024-07-29T11:00:00",
          "2024-07-29T12:00:00",
          "2024-07-29T13:00:00",
          "2024-07-29T14:00:00",
          "2024-07-29T15:00:00",
          "2024-07-29T16:00:00",
          "2024-07-29T17:00:00",
          "2024-07-29T18:00:00",
          "2024-07-29T19:00:00",
          "2024-07-29T20:00:00",
          "2024-07-29T21:00:00",
          "2024-07-29T22:00:00",
          "2024-07-29T23:00:00",
          "2024-07-30T00:00:00",
          "2024-07-30T01:00:00",
          "2024-07-30T02:00:00",
          "2024-07-30T03:00:00",
          "2024-07-30T04:00:00",
          "2024-07-30T05:00:00",
          "2024-07-30T06:00:00",
          "2024-07-30T07:00:00",
          "2024-07-30T08:00:00",
          "2024-07-30T09:00:00",
          "2024-07-30T10:00:00",
          "2024-07-30T11:00:00",
          "2024-07-30T12:00:00",
          "2024-07-30T13:00:00",
          "2024-07-30T14:00:00",
          "2024-07-30T15:00:00",
          "2024-07-30T16:00:00",
          "2024-07-30T17:00:00",
          "2024-07-30T18:00:00",
          "2024-07-30T19:00:00",
          "2024-07-30T20:00:00",
          "2024-07-30T21:00:00",
          "2024-07-30T22:00:00",
          "2024-07-30T23:00:00",
          "2024-07-31T00:00:00",
          "2024-07-31T01:00:00",
          "2024-07-31T02:00:00",
          "2024-07-31T03:00:00",
          "2024-07-31T04:00:00",
          "2024-07-31T05:00:00",
          "2024-07-31T06:00:00",
          "2024-07-31T07:00:00",
          "2024-07-31T08:00:00",
          "2024-07-31T09:00:00",
          "2024-07-31T10:00:00",
          "2024-07-31T11:00:00",
          "2024-07-31T12:00:00",
          "2024-07-31T13:00:00",
          "2024-07-31T14:00:00",
          "2024-07-31T15:00:00",
          "2024-07-31T16:00:00",
          "2024-07-31T17:00:00",
          "2024-07-31T18:00:00",
          "2024-07-31T19:00:00",
          "2024-07-31T20:00:00",
          "2024-07-31T21:00:00",
          "2024-07-31T22:00:00",
          "2024-07-31T23:00:00",
          "2024-08-01T00:00:00",
          "2024-08-01T01:00:00",
          "2024-08-01T02:00:00",
          "2024-08-01T03:00:00",
          "2024-08-01T04:00:00",
          "2024-08-01T05:00:00",
          "2024-08-01T06:00:00",
          "2024-08-01T07:00:00",
          "2024-08-01T08:00:00",
          "2024-08-01T09:00:00",
          "2024-08-01T10:00:00",
          "2024-08-01T11:00:00",
          "2024-08-01T12:00:00",
          "2024-08-01T13:00:00",
          "2024-08-01T14:00:00",
          "2024-08-01T15:00:00",
          "2024-08-01T16:00:00",
          "2024-08-01T17:00:00",
          "2024-08-01T18:00:00",
          "2024-08-01T19:00:00",
          "2024-08-01T20:00:00",
          "2024-08-01T21:00:00",
          "2024-08-01T22:00:00",
          "2024-08-01T23:00:00",
          "2024-08-02T00:00:00",
          "2024-08-02T01:00:00",
          "2024-08-02T02:00:00",
          "2024-08-02T03:00:00",
          "2024-08-02T04:00:00",
          "2024-08-02T05:00:00",
          "2024-08-02T06:00:00",
          "2024-08-02T07:00:00",
          "2024-08-02T08:00:00",
          "2024-08-02T09:00:00",
          "2024-08-02T10:00:00",
          "2024-08-02T11:00:00",
          "2024-08-02T12:00:00",
          "2024-08-02T13:00:00",
          "2024-08-02T14:00:00",
          "2024-08-02T15:00:00",
          "2024-08-02T16:00:00",
          "2024-08-02T17:00:00",
          "2024-08-02T18:00:00",
          "2024-08-02T19:00:00",
          "2024-08-02T20:00:00",
          "2024-08-02T21:00:00",
          "2024-08-02T22:00:00",
          "2024-08-02T23:00:00",
          "2024-08-03T00:00:00",
          "2024-08-03T01:00:00",
          "2024-08-03T02:00:00",
          "2024-08-03T03:00:00",
          "2024-08-03T04:00:00",
          "2024-08-03T05:00:00",
          "2024-08-03T06:00:00",
          "2024-08-03T07:00:00",
          "2024-08-03T08:00:00",
          "2024-08-03T09:00:00",
          "2024-08-03T10:00:00",
          "2024-08-03T11:00:00",
          "2024-08-03T12:00:00",
          "2024-08-03T13:00:00",
          "2024-08-03T14:00:00",
          "2024-08-03T15:00:00",
          "2024-08-03T16:00:00",
          "2024-08-03T17:00:00",
          "2024-08-03T18:00:00",
          "2024-08-03T19:00:00",
          "2024-08-03T20:00:00",
          "2024-08-03T21:00:00",
          "2024-08-03T22:00:00",
          "2024-08-03T23:00:00",
          "2024-08-04T00:00:00",
          "2024-08-04T01:00:00",
          "2024-08-04T02:00:00",
          "2024-08-04T03:00:00",
          "2024-08-04T04:00:00",
          "2024-08-04T05:00:00",
          "2024-08-04T06:00:00",
          "2024-08-04T07:00:00",
          "2024-08-04T08:00:00",
          "2024-08-04T09:00:00",
          "2024-08-04T10:00:00",
          "2024-08-04T11:00:00",
          "2024-08-04T12:00:00",
          "2024-08-04T13:00:00",
          "2024-08-04T14:00:00",
          "2024-08-04T15:00:00",
          "2024-08-04T16:00:00",
          "2024-08-04T17:00:00",
          "2024-08-04T18:00:00",
          "2024-08-04T19:00:00",
          "2024-08-04T20:00:00",
          "2024-08-04T21:00:00",
          "2024-08-04T22:00:00",
          "2024-08-04T23:00:00",
          "2024-08-05T00:00:00",
          "2024-08-05T01:00:00",
          "2024-08-05T02:00:00",
          "2024-08-05T03:00:00",
          "2024-08-05T04:00:00",
          "2024-08-05T05:00:00",
          "2024-08-05T06:00:00",
          "2024-08-05T07:00:00",
          "2024-08-05T08:00:00",
          "2024-08-05T09:00:00",
          "2024-08-05T10:00:00",
          "2024-08-05T11:00:00",
          "2024-08-05T12:00:00",
          "2024-08-05T13:00:00",
          "2024-08-05T14:00:00",
          "2024-08-05T15:00:00",
          "2024-08-05T16:00:00",
          "2024-08-05T17:00:00",
          "2024-08-05T18:00:00",
          "2024-08-05T19:00:00",
          "2024-08-05T20:00:00",
          "2024-08-05T21:00:00",
          "2024-08-05T22:00:00",
          "2024-08-05T23:00:00",
          "2024-08-06T00:00:00",
          "2024-08-06T01:00:00",
          "2024-08-06T02:00:00",
          "2024-08-06T03:00:00"
         ],
         "y": [
          66.78,
          66.62,
          66.74,
          67.23,
          66.81,
          66.3,
          66.26,
          66.1,
          66.21,
          66.21,
          65.62,
          65.34,
          65.12,
          64.93,
          64.96,
          65.03,
          65.27,
          65.15,
          64.17,
          63.97,
          64.25,
          63.93,
          66.55,
          66.51,
          66.64,
          66.55,
          67.28,
          67.18,
          66.97,
          67.27,
          65.61,
          67.54,
          69.31,
          69.51,
          70.64,
          70.64,
          70.35,
          69.24,
          70.85,
          68.81,
          68.88,
          68.77,
          68.34,
          68.16,
          67.71,
          66.5,
          65.12,
          64.98,
          65.07,
          64.85,
          64.22,
          63.51,
          62.92,
          65.38,
          66.02,
          66.23,
          66.17,
          63.57,
          63.57,
          63.64,
          65.42,
          66.2,
          66.22,
          66.17,
          65.82,
          63.49,
          63.2,
          63.33,
          63.45,
          63.12,
          63.18,
          63.36,
          63.27,
          63.49,
          63.36,
          62.94,
          62.93,
          59.32,
          59.03,
          59.4,
          59.79,
          59.53,
          59.21,
          61.13,
          60.36,
          60.18,
          58.12,
          58.36,
          57.63,
          57.59,
          57.33,
          57.06,
          57.22,
          56.56,
          55.43,
          55.37,
          54.32,
          56.15,
          56.18,
          55.35,
          55.37,
          55.4,
          55.35,
          55.54,
          55.32,
          55.61,
          56.25,
          56.36,
          56.61,
          56.56,
          57.17,
          57.7,
          58.16,
          58.23,
          58.43,
          57.06,
          56.63,
          56.42,
          56.73,
          55.88,
          55.05,
          54.35,
          54.43,
          54.35,
          54.33,
          54.22,
          54.06,
          53.67,
          52.64,
          52.43,
          52.07,
          51.75,
          51.45,
          50.87,
          50.7,
          50.81,
          50.65,
          50.71,
          51.14,
          51.46,
          51.41,
          51.5,
          51.44,
          51.17,
          50.38,
          50.2,
          50.45,
          50.41,
          50.57,
          50.81,
          50.7,
          50.97,
          50.98,
          51.06,
          50.88,
          50.44,
          50.44,
          50.51,
          50.66,
          50.53,
          50.35,
          50.53,
          50.57,
          49.74,
          49.64,
          49.9,
          49.79,
          50.06,
          50.07,
          49.6,
          49.11,
          49.3,
          49.06,
          48.77,
          49.52,
          49.33,
          48.97,
          49.21,
          49.21,
          48.45,
          48.22,
          48.22,
          48.17,
          48.52,
          48.62,
          48.53,
          49.06,
          48.9,
          48.85,
          48.33,
          48.04,
          47.81,
          48.72,
          48.61,
          48.77,
          48.44,
          48.11,
          48.08,
          49.43,
          50.73,
          50.67,
          50.05,
          49.17,
          49.08,
          49.04,
          48.63,
          48.71,
          48.77,
          48.59,
          48.1,
          47.79,
          47.45,
          47.35,
          47.62,
          47.9,
          48.77,
          49.38,
          49.66,
          49.18,
          49.15,
          49.43,
          49.78,
          50.41,
          50.58,
          51.29,
          51.34,
          51.4,
          51.53,
          51.28,
          51.14,
          50.59,
          50.39,
          50.2,
          49.86,
          49.41,
          49.4,
          49.55,
          49.51,
          49.55,
          49.59,
          49.74,
          51.3,
          51.77,
          52.38,
          52.23,
          51.7,
          52.04,
          51.6,
          51.65,
          51.96,
          51.62,
          51.49,
          51.67,
          51.98,
          51.78,
          52.01,
          53.32,
          53.72,
          53.67,
          53.97,
          53.79,
          54.01,
          54.48,
          54.53,
          54.96,
          55.18,
          56.03,
          56.01,
          53.59,
          53.86,
          54.66,
          54.97,
          55.7,
          57.75,
          60.71,
          60.55,
          60.28,
          59.96,
          62.58,
          80.58,
          72.35,
          68.76,
          68.9,
          70.63,
          70.85,
          73.09,
          69.55,
          65.22,
          64.35,
          63.85,
          65.2,
          65.4,
          65.42,
          66.63,
          65.72,
          62.73,
          63.35,
          62.49,
          61.62,
          61.66,
          61.73
         ]
        }
       ],
       "layout": {
        "template": {
         "data": {
          "bar": [
           {
            "error_x": {
             "color": "#2a3f5f"
            },
            "error_y": {
             "color": "#2a3f5f"
            },
            "marker": {
             "line": {
              "color": "#E5ECF6",
              "width": 0.5
             },
             "pattern": {
              "fillmode": "overlay",
              "size": 10,
              "solidity": 0.2
             }
            },
            "type": "bar"
           }
          ],
          "barpolar": [
           {
            "marker": {
             "line": {
              "color": "#E5ECF6",
              "width": 0.5
             },
             "pattern": {
              "fillmode": "overlay",
              "size": 10,
              "solidity": 0.2
             }
            },
            "type": "barpolar"
           }
          ],
          "carpet": [
           {
            "aaxis": {
             "endlinecolor": "#2a3f5f",
             "gridcolor": "white",
             "linecolor": "white",
             "minorgridcolor": "white",
             "startlinecolor": "#2a3f5f"
            },
            "baxis": {
             "endlinecolor": "#2a3f5f",
             "gridcolor": "white",
             "linecolor": "white",
             "minorgridcolor": "white",
             "startlinecolor": "#2a3f5f"
            },
            "type": "carpet"
           }
          ],
          "choropleth": [
           {
            "colorbar": {
             "outlinewidth": 0,
             "ticks": ""
            },
            "type": "choropleth"
           }
          ],
          "contour": [
           {
            "colorbar": {
             "outlinewidth": 0,
             "ticks": ""
            },
            "colorscale": [
             [
              0,
              "#0d0887"
             ],
             [
              0.1111111111111111,
              "#46039f"
             ],
             [
              0.2222222222222222,
              "#7201a8"
             ],
             [
              0.3333333333333333,
              "#9c179e"
             ],
             [
              0.4444444444444444,
              "#bd3786"
             ],
             [
              0.5555555555555556,
              "#d8576b"
             ],
             [
              0.6666666666666666,
              "#ed7953"
             ],
             [
              0.7777777777777778,
              "#fb9f3a"
             ],
             [
              0.8888888888888888,
              "#fdca26"
             ],
             [
              1,
              "#f0f921"
             ]
            ],
            "type": "contour"
           }
          ],
          "contourcarpet": [
           {
            "colorbar": {
             "outlinewidth": 0,
             "ticks": ""
            },
            "type": "contourcarpet"
           }
          ],
          "heatmap": [
           {
            "colorbar": {
             "outlinewidth": 0,
             "ticks": ""
            },
            "colorscale": [
             [
              0,
              "#0d0887"
             ],
             [
              0.1111111111111111,
              "#46039f"
             ],
             [
              0.2222222222222222,
              "#7201a8"
             ],
             [
              0.3333333333333333,
              "#9c179e"
             ],
             [
              0.4444444444444444,
              "#bd3786"
             ],
             [
              0.5555555555555556,
              "#d8576b"
             ],
             [
              0.6666666666666666,
              "#ed7953"
             ],
             [
              0.7777777777777778,
              "#fb9f3a"
             ],
             [
              0.8888888888888888,
              "#fdca26"
             ],
             [
              1,
              "#f0f921"
             ]
            ],
            "type": "heatmap"
           }
          ],
          "heatmapgl": [
           {
            "colorbar": {
             "outlinewidth": 0,
             "ticks": ""
            },
            "colorscale": [
             [
              0,
              "#0d0887"
             ],
             [
              0.1111111111111111,
              "#46039f"
             ],
             [
              0.2222222222222222,
              "#7201a8"
             ],
             [
              0.3333333333333333,
              "#9c179e"
             ],
             [
              0.4444444444444444,
              "#bd3786"
             ],
             [
              0.5555555555555556,
              "#d8576b"
             ],
             [
              0.6666666666666666,
              "#ed7953"
             ],
             [
              0.7777777777777778,
              "#fb9f3a"
             ],
             [
              0.8888888888888888,
              "#fdca26"
             ],
             [
              1,
              "#f0f921"
             ]
            ],
            "type": "heatmapgl"
           }
          ],
          "histogram": [
           {
            "marker": {
             "pattern": {
              "fillmode": "overlay",
              "size": 10,
              "solidity": 0.2
             }
            },
            "type": "histogram"
           }
          ],
          "histogram2d": [
           {
            "colorbar": {
             "outlinewidth": 0,
             "ticks": ""
            },
            "colorscale": [
             [
              0,
              "#0d0887"
             ],
             [
              0.1111111111111111,
              "#46039f"
             ],
             [
              0.2222222222222222,
              "#7201a8"
             ],
             [
              0.3333333333333333,
              "#9c179e"
             ],
             [
              0.4444444444444444,
              "#bd3786"
             ],
             [
              0.5555555555555556,
              "#d8576b"
             ],
             [
              0.6666666666666666,
              "#ed7953"
             ],
             [
              0.7777777777777778,
              "#fb9f3a"
             ],
             [
              0.8888888888888888,
              "#fdca26"
             ],
             [
              1,
              "#f0f921"
             ]
            ],
            "type": "histogram2d"
           }
          ],
          "histogram2dcontour": [
           {
            "colorbar": {
             "outlinewidth": 0,
             "ticks": ""
            },
            "colorscale": [
             [
              0,
              "#0d0887"
             ],
             [
              0.1111111111111111,
              "#46039f"
             ],
             [
              0.2222222222222222,
              "#7201a8"
             ],
             [
              0.3333333333333333,
              "#9c179e"
             ],
             [
              0.4444444444444444,
              "#bd3786"
             ],
             [
              0.5555555555555556,
              "#d8576b"
             ],
             [
              0.6666666666666666,
              "#ed7953"
             ],
             [
              0.7777777777777778,
              "#fb9f3a"
             ],
             [
              0.8888888888888888,
              "#fdca26"
             ],
             [
              1,
              "#f0f921"
             ]
            ],
            "type": "histogram2dcontour"
           }
          ],
          "mesh3d": [
           {
            "colorbar": {
             "outlinewidth": 0,
             "ticks": ""
            },
            "type": "mesh3d"
           }
          ],
          "parcoords": [
           {
            "line": {
             "colorbar": {
              "outlinewidth": 0,
              "ticks": ""
             }
            },
            "type": "parcoords"
           }
          ],
          "pie": [
           {
            "automargin": true,
            "type": "pie"
           }
          ],
          "scatter": [
           {
            "fillpattern": {
             "fillmode": "overlay",
             "size": 10,
             "solidity": 0.2
            },
            "type": "scatter"
           }
          ],
          "scatter3d": [
           {
            "line": {
             "colorbar": {
              "outlinewidth": 0,
              "ticks": ""
             }
            },
            "marker": {
             "colorbar": {
              "outlinewidth": 0,
              "ticks": ""
             }
            },
            "type": "scatter3d"
           }
          ],
          "scattercarpet": [
           {
            "marker": {
             "colorbar": {
              "outlinewidth": 0,
              "ticks": ""
             }
            },
            "type": "scattercarpet"
           }
          ],
          "scattergeo": [
           {
            "marker": {
             "colorbar": {
              "outlinewidth": 0,
              "ticks": ""
             }
            },
            "type": "scattergeo"
           }
          ],
          "scattergl": [
           {
            "marker": {
             "colorbar": {
              "outlinewidth": 0,
              "ticks": ""
             }
            },
            "type": "scattergl"
           }
          ],
          "scattermapbox": [
           {
            "marker": {
             "colorbar": {
              "outlinewidth": 0,
              "ticks": ""
             }
            },
            "type": "scattermapbox"
           }
          ],
          "scatterpolar": [
           {
            "marker": {
             "colorbar": {
              "outlinewidth": 0,
              "ticks": ""
             }
            },
            "type": "scatterpolar"
           }
          ],
          "scatterpolargl": [
           {
            "marker": {
             "colorbar": {
              "outlinewidth": 0,
              "ticks": ""
             }
            },
            "type": "scatterpolargl"
           }
          ],
          "scatterternary": [
           {
            "marker": {
             "colorbar": {
              "outlinewidth": 0,
              "ticks": ""
             }
            },
            "type": "scatterternary"
           }
          ],
          "surface": [
           {
            "colorbar": {
             "outlinewidth": 0,
             "ticks": ""
            },
            "colorscale": [
             [
              0,
              "#0d0887"
             ],
             [
              0.1111111111111111,
              "#46039f"
             ],
             [
              0.2222222222222222,
              "#7201a8"
             ],
             [
              0.3333333333333333,
              "#9c179e"
             ],
             [
              0.4444444444444444,
              "#bd3786"
             ],
             [
              0.5555555555555556,
              "#d8576b"
             ],
             [
              0.6666666666666666,
              "#ed7953"
             ],
             [
              0.7777777777777778,
              "#fb9f3a"
             ],
             [
              0.8888888888888888,
              "#fdca26"
             ],
             [
              1,
              "#f0f921"
             ]
            ],
            "type": "surface"
           }
          ],
          "table": [
           {
            "cells": {
             "fill": {
              "color": "#EBF0F8"
             },
             "line": {
              "color": "white"
             }
            },
            "header": {
             "fill": {
              "color": "#C8D4E3"
             },
             "line": {
              "color": "white"
             }
            },
            "type": "table"
           }
          ]
         },
         "layout": {
          "annotationdefaults": {
           "arrowcolor": "#2a3f5f",
           "arrowhead": 0,
           "arrowwidth": 1
          },
          "autotypenumbers": "strict",
          "coloraxis": {
           "colorbar": {
            "outlinewidth": 0,
            "ticks": ""
           }
          },
          "colorscale": {
           "diverging": [
            [
             0,
             "#8e0152"
            ],
            [
             0.1,
             "#c51b7d"
            ],
            [
             0.2,
             "#de77ae"
            ],
            [
             0.3,
             "#f1b6da"
            ],
            [
             0.4,
             "#fde0ef"
            ],
            [
             0.5,
             "#f7f7f7"
            ],
            [
             0.6,
             "#e6f5d0"
            ],
            [
             0.7,
             "#b8e186"
            ],
            [
             0.8,
             "#7fbc41"
            ],
            [
             0.9,
             "#4d9221"
            ],
            [
             1,
             "#276419"
            ]
           ],
           "sequential": [
            [
             0,
             "#0d0887"
            ],
            [
             0.1111111111111111,
             "#46039f"
            ],
            [
             0.2222222222222222,
             "#7201a8"
            ],
            [
             0.3333333333333333,
             "#9c179e"
            ],
            [
             0.4444444444444444,
             "#bd3786"
            ],
            [
             0.5555555555555556,
             "#d8576b"
            ],
            [
             0.6666666666666666,
             "#ed7953"
            ],
            [
             0.7777777777777778,
             "#fb9f3a"
            ],
            [
             0.8888888888888888,
             "#fdca26"
            ],
            [
             1,
             "#f0f921"
            ]
           ],
           "sequentialminus": [
            [
             0,
             "#0d0887"
            ],
            [
             0.1111111111111111,
             "#46039f"
            ],
            [
             0.2222222222222222,
             "#7201a8"
            ],
            [
             0.3333333333333333,
             "#9c179e"
            ],
            [
             0.4444444444444444,
             "#bd3786"
            ],
            [
             0.5555555555555556,
             "#d8576b"
            ],
            [
             0.6666666666666666,
             "#ed7953"
            ],
            [
             0.7777777777777778,
             "#fb9f3a"
            ],
            [
             0.8888888888888888,
             "#fdca26"
            ],
            [
             1,
             "#f0f921"
            ]
           ]
          },
          "colorway": [
           "#636efa",
           "#EF553B",
           "#00cc96",
           "#ab63fa",
           "#FFA15A",
           "#19d3f3",
           "#FF6692",
           "#B6E880",
           "#FF97FF",
           "#FECB52"
          ],
          "font": {
           "color": "#2a3f5f"
          },
          "geo": {
           "bgcolor": "white",
           "lakecolor": "white",
           "landcolor": "#E5ECF6",
           "showlakes": true,
           "showland": true,
           "subunitcolor": "white"
          },
          "hoverlabel": {
           "align": "left"
          },
          "hovermode": "closest",
          "mapbox": {
           "style": "light"
          },
          "paper_bgcolor": "white",
          "plot_bgcolor": "#E5ECF6",
          "polar": {
           "angularaxis": {
            "gridcolor": "white",
            "linecolor": "white",
            "ticks": ""
           },
           "bgcolor": "#E5ECF6",
           "radialaxis": {
            "gridcolor": "white",
            "linecolor": "white",
            "ticks": ""
           }
          },
          "scene": {
           "xaxis": {
            "backgroundcolor": "#E5ECF6",
            "gridcolor": "white",
            "gridwidth": 2,
            "linecolor": "white",
            "showbackground": true,
            "ticks": "",
            "zerolinecolor": "white"
           },
           "yaxis": {
            "backgroundcolor": "#E5ECF6",
            "gridcolor": "white",
            "gridwidth": 2,
            "linecolor": "white",
            "showbackground": true,
            "ticks": "",
            "zerolinecolor": "white"
           },
           "zaxis": {
            "backgroundcolor": "#E5ECF6",
            "gridcolor": "white",
            "gridwidth": 2,
            "linecolor": "white",
            "showbackground": true,
            "ticks": "",
            "zerolinecolor": "white"
           }
          },
          "shapedefaults": {
           "line": {
            "color": "#2a3f5f"
           }
          },
          "ternary": {
           "aaxis": {
            "gridcolor": "white",
            "linecolor": "white",
            "ticks": ""
           },
           "baxis": {
            "gridcolor": "white",
            "linecolor": "white",
            "ticks": ""
           },
           "bgcolor": "#E5ECF6",
           "caxis": {
            "gridcolor": "white",
            "linecolor": "white",
            "ticks": ""
           }
          },
          "title": {
           "x": 0.05
          },
          "xaxis": {
           "automargin": true,
           "gridcolor": "white",
           "linecolor": "white",
           "ticks": "",
           "title": {
            "standoff": 15
           },
           "zerolinecolor": "white",
           "zerolinewidth": 2
          },
          "yaxis": {
           "automargin": true,
           "gridcolor": "white",
           "linecolor": "white",
           "ticks": "",
           "title": {
            "standoff": 15
           },
           "zerolinecolor": "white",
           "zerolinewidth": 2
          }
         }
        },
        "title": {
         "text": "IV vs Time"
        },
        "xaxis": {
         "title": {
          "text": "Time"
         }
        },
        "yaxis": {
         "title": {
          "text": "IV"
         }
        }
       }
      }
     },
     "metadata": {},
     "output_type": "display_data"
    }
   ],
   "source": [
    "import plotly.graph_objects as go\n",
    "\n",
    "# Create separate traces for buy and sell\n",
    "buy_trace = go.Scatter(x=df[df['direction'] == ' buy']['time'], y=df[df['direction'] == ' buy']['iv'],\n",
    "                       mode='markers', marker=dict(color='blue', size=5), name='Buy')\n",
    "sell_trace = go.Scatter(x=df[df['direction'] == ' sell']['time'], y=df[df['direction'] == ' sell']['iv'],\n",
    "                        mode='markers', marker=dict(color='red', size=5), name='Sell')\n",
    "# Line trace for ivol data\n",
    "line_trace = go.Scatter(\n",
    "    x=df_ivol_index['time'],\n",
    "    y=df_ivol_index['ivol_index'],\n",
    "    mode='lines',\n",
    "    line=dict(color='green'),\n",
    "    name='Ivol Index'\n",
    ")\n",
    "\n",
    "# Create figure with both traces\n",
    "fig = go.Figure([buy_trace, sell_trace,line_trace])\n",
    "\n",
    "# Update layout\n",
    "fig.update_layout(title='IV vs Time',\n",
    "                  xaxis_title='Time',\n",
    "                  yaxis_title='IV')\n",
    "\n",
    "# Show plot\n",
    "fig.show()"
   ]
  }
 ],
 "metadata": {
  "kernelspec": {
   "display_name": "portrisk",
   "language": "python",
   "name": "python3"
  },
  "language_info": {
   "codemirror_mode": {
    "name": "ipython",
    "version": 3
   },
   "file_extension": ".py",
   "mimetype": "text/x-python",
   "name": "python",
   "nbconvert_exporter": "python",
   "pygments_lexer": "ipython3",
   "version": "3.12.4"
  }
 },
 "nbformat": 4,
 "nbformat_minor": 2
}
