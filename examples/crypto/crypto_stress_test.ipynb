{
 "cells": [
  {
   "cell_type": "code",
   "execution_count": 28,
   "metadata": {},
   "outputs": [],
   "source": [
    "import json\n",
    "import pandas as pd\n",
    "\n",
    "import portrisk\n",
    "\n",
    "from deribit import get_order_book\n",
    "\n",
    "pd.set_option('display.max_rows', None)  # Set max_rows to None to display all rows\n",
    "pd.set_option('display.max_columns', None)  # Set max_columns to None to display all columns\n"
   ]
  },
  {
   "cell_type": "code",
   "execution_count": 34,
   "metadata": {},
   "outputs": [],
   "source": [
    "# Load stress parameters\n",
    "file_path = './parameters/'\n",
    "\n",
    "with open(file_path + 'spot_vol_shocks.json', 'r') as f:\n",
    "    spot_vol_shocks_param = json.load(f)\n",
    "\n",
    "crypto_parameters = portrisk.core.utils.CryptoParameters(spot_vol_shocks_param)\n",
    "\n",
    "with open(file_path + 'vol_surface_shocks.json', 'r') as f:\n",
    "    vol_surface_shocks_param = json.load(f)\n",
    "\n",
    "vol_surface_shocks_parameters = portrisk.core.utils.VolSurfaceParameters(vol_surface_shocks_param)\n"
   ]
  },
  {
   "cell_type": "code",
   "execution_count": 64,
   "metadata": {},
   "outputs": [],
   "source": [
    "# load position data\n",
    "df = pd.read_excel('positions.xlsx')\n",
    "\n",
    "# Splitting the 'instrument' column by \"-\"\n",
    "df[['underlying','expiry','strike','put_call']] = df['instrument'].str.split('-', expand=True)\n",
    "df['strike'] = df['strike'].astype(float)\n",
    "df['put_call'] = df['put_call'].map({'P':'put','C':'call'})\n",
    "df['expiry'] = pd.to_datetime(df['expiry'], format='%d%b%y')\n",
    "\n",
    "# Calculate time to expiry\n",
    "valuation_day = pd.to_datetime('2024-08-05')\n",
    "df['time_to_expiry'] = (df['expiry'] - valuation_day).dt.days / 365\n",
    "\n",
    "# get market data from deribit\n",
    "deribit_res = get_order_book(instruments=df['instrument'].to_list())\n",
    "df = pd.merge(df, deribit_res,how='left',left_on='instrument',right_on='instrument_name')\n",
    "\n",
    "\n",
    "# calculate input for BSM\t\t\n",
    "df['cost_of_carry_rate'] = 'default'\n",
    "df['multiplier'] = 1\n",
    "df['rate'] = 0.03\n",
    "df['vol'] = df['mark_iv'] / 100\n",
    "df['spot'] = df['index_price'].values[0]\n",
    "\n",
    "df['PositionVega'] = df['vega'] * df['quantity']\n",
    "df['Expiry'] = df['expiry']"
   ]
  },
  {
   "cell_type": "markdown",
   "metadata": {},
   "source": [
    "## Spot Vol Shocks"
   ]
  },
  {
   "cell_type": "code",
   "execution_count": 66,
   "metadata": {},
   "outputs": [],
   "source": [
    "spot_vol_shocks = portrisk.crypto.CryptoSpotVolShocks(crypto_parameters)"
   ]
  },
  {
   "cell_type": "code",
   "execution_count": 78,
   "metadata": {},
   "outputs": [],
   "source": [
    "post_stress, col = spot_vol_shocks.apply_spot_vol_shocks(df)"
   ]
  },
  {
   "cell_type": "code",
   "execution_count": 23,
   "metadata": {},
   "outputs": [
    {
     "data": {
      "text/plain": [
       "np.float64(93.56524889234046)"
      ]
     },
     "execution_count": 23,
     "metadata": {},
     "output_type": "execute_result"
    }
   ],
   "source": [
    "portrisk.core.black_scholes.bs_pricing(strike=50000, time_to_expiry=0.232877, spot=54681.59, rate=0.03, vol=0.5775, put_call='put')\n",
    "portrisk.core.black_scholes.calc_vega(strike=50000, time_to_expiry=0.232877, spot=54681.59, rate=0.03, vol=0.5775, put_call='put')\n",
    "\n",
    "# np.float64(3606.873391368419)\n",
    "# np.float64(3700.518323796012)"
   ]
  },
  {
   "cell_type": "code",
   "execution_count": null,
   "metadata": {},
   "outputs": [],
   "source": [
    "post_stress"
   ]
  },
  {
   "cell_type": "markdown",
   "metadata": {},
   "source": [
    "## Vol Surface Shocks"
   ]
  },
  {
   "cell_type": "code",
   "execution_count": 35,
   "metadata": {},
   "outputs": [
    {
     "data": {
      "text/plain": [
       "{'Class': 'BTC',\n",
       " 'alpha_r': 0.25,\n",
       " 'beta_r': 0.42482,\n",
       " 'alpha_a': 12.8,\n",
       " 'beta_a': 0.275641,\n",
       " 'max_vol': 70.18,\n",
       " 'min_vol': 13.07,\n",
       " '1m': 1000000,\n",
       " '3m': 1500000,\n",
       " '6m': 2000000,\n",
       " '1y': 3000000,\n",
       " '2y': 1000000}"
      ]
     },
     "execution_count": 35,
     "metadata": {},
     "output_type": "execute_result"
    }
   ],
   "source": [
    "vol_surface_shocks_parameters.config_concentration('BTC')"
   ]
  },
  {
   "cell_type": "code",
   "execution_count": null,
   "metadata": {},
   "outputs": [],
   "source": []
  },
  {
   "cell_type": "code",
   "execution_count": 33,
   "metadata": {},
   "outputs": [
    {
     "data": {
      "text/plain": [
       "{'scenario_1': {'spot_shock': {'BTC': 0.1, 'ETH': 0.2},\n",
       "  'vol_shock': {'BTC': 0, 'ETH': 0}},\n",
       " 'scenario_2': {'spot_shock': {'BTC': 0.15, 'ETH': 0.25},\n",
       "  'vol_shock': {'BTC': 0, 'ETH': 0}}}"
      ]
     },
     "execution_count": 33,
     "metadata": {},
     "output_type": "execute_result"
    }
   ],
   "source": [
    "vol_surface_shocks_parameters.parameters"
   ]
  }
 ],
 "metadata": {
  "kernelspec": {
   "display_name": "portrisk",
   "language": "python",
   "name": "python3"
  },
  "language_info": {
   "codemirror_mode": {
    "name": "ipython",
    "version": 3
   },
   "file_extension": ".py",
   "mimetype": "text/x-python",
   "name": "python",
   "nbconvert_exporter": "python",
   "pygments_lexer": "ipython3",
   "version": "3.12.4"
  }
 },
 "nbformat": 4,
 "nbformat_minor": 2
}
